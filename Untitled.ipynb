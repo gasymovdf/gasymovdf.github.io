{
 "cells": [
  {
   "cell_type": "markdown",
   "metadata": {},
   "source": [
    "# H1\n",
    "## H2 \n",
    "### H3 \n",
    "#### H4\n",
    "##### H5\n",
    "###### H6\n",
    "\n",
    "Можно ещё так: \n",
    "\n",
    "H1\n",
    "==========\n",
    "H2 \n",
    "--------\n"
   ]
  },
  {
   "cell_type": "markdown",
   "metadata": {},
   "source": [
    "*Курсив* или _курсив_\n",
    "\n",
    "**Жырный** или __жырный__\n",
    "\n",
    "*__Объединение__* или **_так_**\n",
    "\n",
    "~~тут какой-то зачёркнутый текст~~"
   ]
  },
  {
   "cell_type": "markdown",
   "metadata": {},
   "source": [
    "1. Кхм\n",
    "2. Кхм-кхм\n",
    "\n",
    "   кек\n",
    "   \n",
    "   * поперек батьке в пекло\n",
    "   + или так\n",
    "   - или так\n",
    "   \n",
    "* не забудь про пробелы\n",
    "   \n",
    "1. кхм\n",
    "\n",
    "  1. кхе-кхе\n",
    "  \n",
    "    1. кхех\n",
    "   \n",
    "   кек\n"
   ]
  },
  {
   "cell_type": "markdown",
   "metadata": {},
   "source": [
    "[Подчёркнутая ссылка](https://www.google.com)\n",
    "\n",
    "[Подчёркнутая ссылка с названием](https://www.google.com \"Google's Homepage\")\n",
    "\n",
    "[ссылка на ссылку с названием][я тута]\n",
    "\n",
    "[Какая-то ссылка на файл](../astronomy/galaxy/stilts.py)\n",
    "\n",
    "\n",
    "В тексте можно делать [так] или [так][1].\n",
    "\n",
    "Просто ссылка оформляется как http://www.example.com or <http://www.example.com>\n",
    "\n",
    "[я тута]: https://www.mozilla.org\n",
    "[1]: http://slashdot.org\n",
    "[так]: http://www.reddit.com"
   ]
  },
  {
   "cell_type": "markdown",
   "metadata": {},
   "source": [
    "здесь будет ваше лого:\n",
    "\n",
    "Встроено в текст: \n",
    "![что-то написано](https://github.com/adam-p/markdown-here/raw/master/src/common/images/icon48.png \"какое-то название\")\n",
    "\n",
    "С ссылкой на название: \n",
    "![что-то написано][logo]\n",
    "\n",
    "[logo]: https://github.com/adam-p/markdown-here/raw/master/src/common/images/icon48.png \"какое-то название 2\""
   ]
  },
  {
   "cell_type": "markdown",
   "metadata": {},
   "source": [
    "Тут типа `цитата`\n",
    "\n",
    "Текст проги на жаваскрипте\n",
    "```javascript\n",
    "var s = \"JavaScript syntax highlighting\";\n",
    "alert(s);\n",
    "```\n",
    " \n",
    "Текст проги на питоне\n",
    "```python\n",
    "s = \"Python syntax highlighting\"\n",
    "print s\n",
    "```\n",
    " \n",
    "Без указания языка просто выделение без подсветки синтаксиса\n",
    "```\n",
    "No language indicated, so no syntax highlighting. \n",
    "But let's throw in a <b>tag</b>.\n",
    "```"
   ]
  },
  {
   "cell_type": "markdown",
   "metadata": {},
   "source": [
    "Таблы тоже есть и делаются просто: \n",
    "\n",
    "\n",
    "| какое-то      | название     | круто  |\n",
    "| -------------|-------------| -----|\n",
    "| раз      | раз |  |\n",
    "| два      |     |   два |\n",
    "|  | три   |    три |\n",
    "\n",
    "\n",
    "название надо отделятить минимум тремя ---\n",
    "\n",
    "записка | меньше | красивше\n",
    "--- | --- | ---\n",
    "*жырно* | `Конфуций` | **курсивно**\n",
    "где-то | вас | обманули\n"
   ]
  },
  {
   "cell_type": "markdown",
   "metadata": {},
   "source": [
    "Можно делать выделение ещё красивее: \n",
    "\n",
    "> Вот так\n",
    ">\n",
    "> и продолжать **жырно** или _курсивно_"
   ]
  },
  {
   "cell_type": "markdown",
   "metadata": {},
   "source": [
    "Можно писать на чистом html \n",
    "\n",
    "<dl>\n",
    "  <dt>Лист определений</dt>\n",
    "  <dd>Каки-то люди, которые что-то используют.</dd>\n",
    "\n",
    "  <dt>Сам Markdown не работает тогда</dt>\n",
    "  <dd> *не курсивно* и **не жырно**.\n",
    "      Нужны html <em>тэги</em>.</dd>\n",
    "</dl>"
   ]
  },
  {
   "cell_type": "markdown",
   "metadata": {},
   "source": [
    "Горизонтальные чёрточки: \n",
    "\n",
    "---\n",
    "\n",
    "Или\n",
    "\n",
    "***\n",
    "\n",
    "Или \n",
    "\n",
    "___"
   ]
  },
  {
   "cell_type": "markdown",
   "metadata": {},
   "source": [
    "переносы какие-то есть и как-то должны работать наверное дадададададададададададада или не очень"
   ]
  },
  {
   "cell_type": "markdown",
   "metadata": {},
   "source": [
    "Ссылку на видос лучше писать через html\n",
    "\n",
    "<a href=\"https://www.youtube.com/watch?v=iuXaeCmEXaY\n",
    "\" target=\"_blank\"><img src=\"https://sun9-59.userapi.com/c853520/v853520885/24d933/xRRvtH07RV0.jpg\" \n",
    "alt=\"если там нет картинки\" width=\"240\" height=\"180\" border=\"10\" /></a>\n",
    "\n",
    "в Markdown будет так, но настроек меньше: \n",
    "\n",
    "[![если тут нет картинки](http://img.youtube.com/vi/iuXaeCmEXaY/0.jpg)](https://www.youtube.com/watch?v=iuXaeCmEXaY)"
   ]
  },
  {
   "cell_type": "markdown",
   "metadata": {},
   "source": [
    "<a href=\"https://www.youtube.com/watch?v=dQw4w9WgXcQ\n",
    "\" target=\"_blank\"><img src=\"https://lh3.googleusercontent.com/proxy/Kkb4B7KeX1w4mi_nEV53vY2apWno_EY4eegCYybn9CjdkmLdvpTdpo5vUT4HvdjIGK2Ucx4ndVvPIU8AmoXSRMUi1w50FIlA0YRfX37-iUYd7kbfUsz7cXPfxUDFnEYWtkBxOH6Zv70WslICx1eHZE_fX-kBLD8nDZc-IKFOwrHuqEn27JVjlDNXTO_83GyGQeRbQxABUt5Sff2A1zsAcRQD_mNo\" \n",
    "alt=\"если там нет картинки\" width=\"240\" height=\"180\" border=\"10\" /></a>\n",
    "\n"
   ]
  },
  {
   "cell_type": "markdown",
   "metadata": {},
   "source": []
  }
 ],
 "metadata": {
  "kernelspec": {
   "display_name": "Python 3",
   "language": "python",
   "name": "python3"
  },
  "language_info": {
   "codemirror_mode": {
    "name": "ipython",
    "version": 3
   },
   "file_extension": ".py",
   "mimetype": "text/x-python",
   "name": "python",
   "nbconvert_exporter": "python",
   "pygments_lexer": "ipython3",
   "version": "3.7.6"
  }
 },
 "nbformat": 4,
 "nbformat_minor": 4
}
